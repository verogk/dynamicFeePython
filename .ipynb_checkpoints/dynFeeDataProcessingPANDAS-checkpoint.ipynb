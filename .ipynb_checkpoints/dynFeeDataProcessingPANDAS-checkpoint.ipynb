{
 "cells": [
  {
   "cell_type": "markdown",
   "metadata": {},
   "source": [
    "### Dynamic Fee: Data Processing con PANDAS\n",
    "En la primera parte, con Spark, se bajaron las acciones de los visitantes del sitio en las últimas 4 semanas para un país. Esta información se pre procesó y se guardó en un Pandas Dataframe. \n",
    " \n",
    "Ahora en un segundo paso y de acá en adelante trabajo en un nuevo notebook así uso el cluster local."
   ]
  },
  {
   "cell_type": "code",
   "execution_count": null,
   "metadata": {
    "collapsed": true
   },
   "outputs": [],
   "source": [
    "import pandas as pd\n",
    "import numpy as np\n",
    "import math\n",
    "import matplotlib.pyplot as plt\n",
    "get_ipython().magic(u'matplotlib inline')"
   ]
  },
  {
   "cell_type": "code",
   "execution_count": null,
   "metadata": {
    "collapsed": true
   },
   "outputs": [],
   "source": [
    "# Levantar el PDF\n",
    "alldataPDF = pd.read_csv(\"../dynamic_fee_processed_user_actions_MX_4WeeksTo18jul.csv\", sep=',', header='infer')\n",
    "alldataPDF.columns.values"
   ]
  },
  {
   "cell_type": "code",
   "execution_count": null,
   "metadata": {
    "collapsed": true
   },
   "outputs": [],
   "source": [
    "# site que estoy analizando\n",
    "cc = \"MX\""
   ]
  },
  {
   "cell_type": "markdown",
   "metadata": {},
   "source": [
    "### Limpieza de datos\n",
    "Me quedo solo con checkouts y thanks, que usare para la estimacion"
   ]
  },
  {
   "cell_type": "code",
   "execution_count": null,
   "metadata": {
    "collapsed": true
   },
   "outputs": [],
   "source": [
    "# Table de MAX fl \n",
    "alldataPDF.fl.value_counts()"
   ]
  },
  {
   "cell_type": "code",
   "execution_count": null,
   "metadata": {
    "collapsed": true
   },
   "outputs": [],
   "source": [
    "alldata_ct = alldataPDF.loc[(alldataPDF['fl']==\"checkout\") | (alldataPDF['fl']==\"thanks\")]"
   ]
  },
  {
   "cell_type": "code",
   "execution_count": null,
   "metadata": {
    "collapsed": true
   },
   "outputs": [],
   "source": [
    "alldata_ct.count()"
   ]
  },
  {
   "cell_type": "code",
   "execution_count": null,
   "metadata": {
    "collapsed": true
   },
   "outputs": [],
   "source": [
    "# saco las observacions donde no se trackeo el precio\n",
    "alldata_ct = alldata_ct.loc[(alldata_ct['pri'].isnull()==False)]"
   ]
  },
  {
   "cell_type": "markdown",
   "metadata": {},
   "source": [
    "### Problemas con trackeos de pritax\n",
    "Problemas: \n",
    "- 1) hasta el 19/7/2016  en MAPI se trackeaba en el campo \"prir\" el precio total, en vez de en \"pri\"\n",
    "- 2) Por el momento no se trackea \"pritax\" (viene vacío) en los casos en que el hotel ofrece pago en destino. Además en esos casos en \"pri\" se trackea el precio sin impuestos\n",
    "     \n",
    "Soluciones:\n",
    "- 1) Hacer el análisis excluyendo las acciones en MAPI previas al 19/7. Para identificarlo, en la parte de Spark se pedrirá también el campo \"xClient\" y se filtrará cuando el valor sea \"mapi-hotels-v3\"\n",
    "- 2) Los casos donde \"pri\" no contiene los impuestos se identifican porque \"pritax\" viene vacío. Para esos casos, calcular el impuesto para completar \"pritax\" y luego sumarlos a \"pri\" para completar con el precio final.\n",
    "     \n",
    "#### Cálculo de \"pritax\":\n",
    "- \"pritax\" se calcula con las tasas de impuestos que aplican en el destino (calculamos por iata de destino)\n",
    "- Aplican diferentes impuestos (IVA, ISH, IGV, etc.)\n",
    "- Cada impuesto puede tener una tasa distinta a nivel de ciudad, estado o país (para cada impuesto, aplica el de la ciudad si existiera, sino el del estado si existiera y por último el de país.)\n",
    "- Se suma la tasa impositiva de cada impuesto distinto"
   ]
  },
  {
   "cell_type": "code",
   "execution_count": null,
   "metadata": {
    "collapsed": true
   },
   "outputs": [],
   "source": [
    "alldata_noMAPI = alldata_ct.loc[alldata_ct['xClient']!=\"mapi-hotels-v3\"]"
   ]
  },
  {
   "cell_type": "code",
   "execution_count": null,
   "metadata": {
    "collapsed": true
   },
   "outputs": [],
   "source": [
    "# ya puedo descartar la columna xClient\n",
    "alldata_noMAPI.drop('xClient', axis=1, inplace=True)"
   ]
  },
  {
   "cell_type": "code",
   "execution_count": null,
   "metadata": {
    "collapsed": true
   },
   "outputs": [],
   "source": [
    "# ##### Armo una tabla de taxes para cada iata de destino"
   ]
  },
  {
   "cell_type": "code",
   "execution_count": null,
   "metadata": {
    "collapsed": true
   },
   "outputs": [],
   "source": [
    "# Levantar tabla de destination taxes en PDF\n",
    "dest_taxes = pd.read_csv(\"../dynamicFee/destinationtaxes.csv\", sep=',', header='infer')\n",
    "dest_taxes.columns.values"
   ]
  },
  {
   "cell_type": "code",
   "execution_count": null,
   "metadata": {
    "collapsed": true
   },
   "outputs": [],
   "source": [
    "unique_taxes = dest_taxes['TAX_NAME'].unique()"
   ]
  },
  {
   "cell_type": "code",
   "execution_count": null,
   "metadata": {
    "collapsed": true
   },
   "outputs": [],
   "source": [
    "# Levantar tabla de geoData en PDF\n",
    "geoData = pd.read_csv(\"../geoData/geoDataPDF.csv\", sep=',', header='infer')\n",
    "geoData.columns.values"
   ]
  },
  {
   "cell_type": "code",
   "execution_count": null,
   "metadata": {
    "collapsed": true
   },
   "outputs": [],
   "source": [
    "### Me quedo con una lista de 3 mil iatas unicos que figuran en la tabla de eventos asi no calculo para los 108.000 iatas de GEO\n",
    "unique_iatas = alldataPDF[\"iata_dest\"].unique()\n",
    "len(unique_iatas)"
   ]
  },
  {
   "cell_type": "code",
   "execution_count": null,
   "metadata": {
    "collapsed": true
   },
   "outputs": [],
   "source": [
    "# Create a list to store the data\n",
    "lista_por_tax = []\n",
    "\n",
    "for iata in unique_iatas:\n",
    "    \n",
    "    cityID = geoData.loc[geoData['iata']==iata, 'city_id']\n",
    "    if len(cityID) > 0:\n",
    "        cityID = cityID.values[0]\n",
    "    else:\n",
    "        cityID = 0\n",
    "    \n",
    "    stateID = geoData.loc[geoData['iata']==iata,'state_prov_id']\n",
    "    if len(stateID) > 0:\n",
    "        stateID = stateID.values[0]\n",
    "    else:\n",
    "        stateID = 0\n",
    "    \n",
    "    countryID = geoData.loc[geoData['iata']==iata,'country_id']\n",
    "    if len(countryID) > 0:\n",
    "        countryID = countryID.values[0]\n",
    "    else:\n",
    "        countryID = 0\n",
    "    \n",
    "    suma_rates = 0\n",
    "    \n",
    "    for tax in unique_taxes:\n",
    "        city_taxrate = dest_taxes.loc[(dest_taxes['TAX_NAME']==tax) & (dest_taxes['GEOAREA']==cityID), 'PERCENTAGE']\n",
    "        state_taxrate = dest_taxes.loc[(dest_taxes['TAX_NAME']==tax) & (dest_taxes['GEOAREA']==stateID), 'PERCENTAGE']\n",
    "        country_taxrate = dest_taxes.loc[(dest_taxes['TAX_NAME']==tax) & (dest_taxes['GEOAREA']==countryID), 'PERCENTAGE']\n",
    "    \n",
    "    # acá viene la jerarquía donde, si para un tax hay un rate particular de la ciudad va ese, sino del estado, sino del pais \n",
    "        if len(city_taxrate) > 0:\n",
    "            suma_rates += city_taxrate.values[0]\n",
    "        elif len(state_taxrate) > 0:\n",
    "            suma_rates += state_taxrate.values[0]\n",
    "        elif len(country_taxrate) > 0:\n",
    "            suma_rates += country_taxrate.values[0]    \n",
    "            \n",
    "    lista_por_tax.append(suma_rates) \n",
    "            \n",
    "unique_iatas = pd.DataFrame(unique_iatas)            \n",
    "unique_iatas['tax_rate'] = lista_por_tax"
   ]
  },
  {
   "cell_type": "code",
   "execution_count": null,
   "metadata": {
    "collapsed": true
   },
   "outputs": [],
   "source": [
    "# renombro las columnas\n",
    "unique_iatas.columns = ['iata', 'calc_tax_rate']"
   ]
  },
  {
   "cell_type": "code",
   "execution_count": null,
   "metadata": {
    "collapsed": true
   },
   "outputs": [],
   "source": [
    "unique_iatas.describe(percentiles=[ 0.7, 0.8, 0.9])"
   ]
  },
  {
   "cell_type": "code",
   "execution_count": null,
   "metadata": {
    "collapsed": true
   },
   "outputs": [],
   "source": [
    "# merge de la tabla de impuestos por iata con el impuesto calculado\n",
    "alldata_taxfix = pd.merge(alldata_noMAPI, unique_iatas, how='left', left_on=['iata_dest'], right_on=['iata'])\n",
    "alldata_taxfix.drop('iata', axis=1, inplace=True)"
   ]
  },
  {
   "cell_type": "code",
   "execution_count": null,
   "metadata": {
    "collapsed": true
   },
   "outputs": [],
   "source": [
    "alldata_taxfix.fl.value_counts()"
   ]
  },
  {
   "cell_type": "code",
   "execution_count": null,
   "metadata": {
    "collapsed": true
   },
   "outputs": [],
   "source": [
    "# calculo pritax para los casos en que pritax fue vacio. en esos casos, pri no incluia impuestos\n",
    "alldata_taxfix['fixed_pritax'] = np.where((alldata_taxfix['pritax'].isnull())                                        , alldata_taxfix['calc_tax_rate'] / 100 * alldata_taxfix['pri']                                       , alldata_taxfix['pritax'])"
   ]
  },
  {
   "cell_type": "code",
   "execution_count": null,
   "metadata": {
    "collapsed": true
   },
   "outputs": [],
   "source": [
    "# agrego el tax al precio final para los casos en que pritax fue vacio\n",
    "alldata_taxfix['fixed_pri'] = np.where((alldata_taxfix['pritax'].isnull())                                        , alldata_taxfix['fixed_pritax'] + alldata_taxfix['pri']                                       , alldata_taxfix['pri'])"
   ]
  },
  {
   "cell_type": "code",
   "execution_count": null,
   "metadata": {
    "collapsed": true
   },
   "outputs": [],
   "source": [
    "# creo un campo tax.percentage donde calculo el tax rate que me termino quedando\n",
    "alldata_taxfix['tax_percentage'] = alldata_taxfix['fixed_pritax'] / alldata_taxfix['fixed_pri']*100"
   ]
  },
  {
   "cell_type": "code",
   "execution_count": null,
   "metadata": {
    "collapsed": true
   },
   "outputs": [],
   "source": [
    "# Analizo tax_percentage. el problema de trackeo de pritax era en el flujo checkout\n",
    "alldata_taxfix.loc[alldata_taxfix['fl']==\"checkout\"].tax_percentage.dropna().describe([0.05, 0.25,0.95, 0.99])"
   ]
  },
  {
   "cell_type": "markdown",
   "metadata": {},
   "source": [
    "#### Paso precios a Per RoomNight (por noche por habitación)\n",
    "Todavía no paso a dólares porque primero tengo que limpiar \"exch\" y como \"cur\" estuvo mal trackeado, necesito ver la magnitud de precios en moneda local y dólares para identificarlos"
   ]
  },
  {
   "cell_type": "code",
   "execution_count": null,
   "metadata": {
    "collapsed": true
   },
   "outputs": [],
   "source": [
    "# to dollar and roomnight\n",
    "alldata_taxfix['pri_rn'] = alldata_taxfix['fixed_pri'] / (alldata_taxfix['hr'] * alldata_taxfix['duration']) "
   ]
  },
  {
   "cell_type": "code",
   "execution_count": null,
   "metadata": {
    "collapsed": true
   },
   "outputs": [],
   "source": [
    "# el problema era en checkout\n",
    "alldata_taxfix.loc[alldata_taxfix['fl']==\"checkout\"].pri_rn.dropna().describe([0.05, 0.25,0.5, 0.75,0.8, 0.9, 0.95, 0.99])"
   ]
  },
  {
   "cell_type": "code",
   "execution_count": null,
   "metadata": {
    "collapsed": true
   },
   "outputs": [],
   "source": [
    "# ### Limpiar tipo de cambio\n",
    "# Viendo como se distribuyen los precios, podría ser que siempre se cobre en moneda local"
   ]
  },
  {
   "cell_type": "code",
   "execution_count": null,
   "metadata": {
    "collapsed": true
   },
   "outputs": [],
   "source": [
    "alldata_taxfix['cur'].value_counts()"
   ]
  },
  {
   "cell_type": "code",
   "execution_count": null,
   "metadata": {
    "collapsed": true
   },
   "outputs": [],
   "source": [
    "alldata_taxfix['exch'].dropna().describe([0.05, 0.25,0.95, 0.99])"
   ]
  },
  {
   "cell_type": "markdown",
   "metadata": {},
   "source": [
    "#### Completo el tipo de cambio con el promedio de las observaciones"
   ]
  },
  {
   "cell_type": "code",
   "execution_count": null,
   "metadata": {
    "collapsed": true
   },
   "outputs": [],
   "source": [
    "alldata_taxfix['fixed_exch'] = alldata_taxfix['exch'].fillna(alldata_taxfix['exch'].mean())"
   ]
  },
  {
   "cell_type": "code",
   "execution_count": null,
   "metadata": {
    "collapsed": true
   },
   "outputs": [],
   "source": [
    "alldata_taxfix['fixed_exch'].describe()"
   ]
  },
  {
   "cell_type": "code",
   "execution_count": null,
   "metadata": {
    "collapsed": true
   },
   "outputs": [],
   "source": [
    "# to dollar and roomnight\n",
    "alldata_taxfix['pri_usd'] = alldata_taxfix['fixed_pri'] / alldata_taxfix['fixed_exch']\n",
    "alldata_taxfix['pri_usd_rn'] = alldata_taxfix['fixed_pri'] / (alldata_taxfix['fixed_exch'] * alldata_taxfix['hr'] * alldata_taxfix['duration']) "
   ]
  },
  {
   "cell_type": "code",
   "execution_count": null,
   "metadata": {
    "collapsed": true
   },
   "outputs": [],
   "source": [
    "alldata_taxfix['pri_usd'].describe([0.05, 0.1, 0.25, 0.5, 0.75, 0.9, 0.99])"
   ]
  },
  {
   "cell_type": "markdown",
   "metadata": {},
   "source": [
    "#### Price / Stars"
   ]
  },
  {
   "cell_type": "code",
   "execution_count": null,
   "metadata": {
    "collapsed": true
   },
   "outputs": [],
   "source": [
    "alldata_taxfix['price_stars'] = alldata_taxfix['pri_usd_rn'] / (alldata_taxfix['hc']) "
   ]
  },
  {
   "cell_type": "markdown",
   "metadata": {},
   "source": [
    "#### Completar Hotel Stars\n",
    "Cuando el hotel es una cabaña o un hostel, hc=0. Para completar las estrellas en el analisis podría completar de acuerdo con los precios."
   ]
  },
  {
   "cell_type": "code",
   "execution_count": null,
   "metadata": {
    "collapsed": true
   },
   "outputs": [],
   "source": [
    "alldata_taxfix.hc.value_counts()"
   ]
  },
  {
   "cell_type": "code",
   "execution_count": null,
   "metadata": {
    "collapsed": true
   },
   "outputs": [],
   "source": [
    "colors = np.where(alldata_taxfix.country_dest == cc, 'r', 'g')\n",
    "plt.scatter(alldata_taxfix.pri_usd_rn, alldata_taxfix.hc, s=120, c=colors)"
   ]
  },
  {
   "cell_type": "code",
   "execution_count": null,
   "metadata": {
    "collapsed": true
   },
   "outputs": [],
   "source": [
    "fig_size = plt.rcParams[\"figure.figsize\"] \n",
    "print \"old size\",  fig_size\n",
    "plt.rcParams[\"figure.figsize\"] = [9, 6]\n",
    "print \"new size\", fig_size\n",
    "\n",
    "# Por el momento saco las observaciones donde hc=0"
   ]
  },
  {
   "cell_type": "code",
   "execution_count": null,
   "metadata": {
    "collapsed": true
   },
   "outputs": [],
   "source": [
    "alldata_completehc = alldata_taxfix.loc[alldata_taxfix['hc']>0]"
   ]
  },
  {
   "cell_type": "markdown",
   "metadata": {},
   "source": [
    "### Limpio Outliers\n",
    "Con un describe() veo que variables toman valores raros. \n",
    "Luego filtro quedándome las observaciones donde tienen menos de 3 desvíos respecto de la media."
   ]
  },
  {
   "cell_type": "code",
   "execution_count": null,
   "metadata": {
    "collapsed": true
   },
   "outputs": [],
   "source": [
    "alldata_completehc.columns.values"
   ]
  },
  {
   "cell_type": "code",
   "execution_count": null,
   "metadata": {
    "collapsed": true
   },
   "outputs": [],
   "source": [
    "# hay casos donde no tuve lat o long de origen o destino. excluyo esos casos (unos 25)\n",
    "alldata_completeGeo = alldata_completehc.loc[np.isfinite(alldata_completehc['distance_km'])]"
   ]
  },
  {
   "cell_type": "code",
   "execution_count": null,
   "metadata": {
    "collapsed": true
   },
   "outputs": [],
   "source": [
    "alldata_completeGeo.describe()"
   ]
  },
  {
   "cell_type": "code",
   "execution_count": null,
   "metadata": {
    "collapsed": true
   },
   "outputs": [],
   "source": [
    "# si la anticipacion es -1, pongo 0. Si es <1, lo excluyo\n",
    "alldata_completeGeo['anticipation'] = alldata_completeGeo['anticipation'].apply(lambda x: 0 if (x == -1) else x)\n",
    "alldata_completeGeo = alldata_completeGeo.loc[alldata_completeGeo['anticipation'] >= 0]"
   ]
  },
  {
   "cell_type": "code",
   "execution_count": null,
   "metadata": {
    "collapsed": true
   },
   "outputs": [],
   "source": [
    "def filterOutliers(bookings, features_to_filter):\n",
    "    \n",
    "    #print bookings[features_to_filter].describe()\n",
    "    \n",
    "    for column in bookings:\n",
    "        if column in features_to_filter:\n",
    "            X_col = bookings[column] # se queda solo con las columnas que elegi para evaluar outliers\n",
    "            # se queda solo con las obs de TODAS LAS COLUMNAS de bookings donde esas columnas cumplen la siguiente condicion.\n",
    "            bookings = bookings[np.abs(X_col - X_col.mean()) <= (3 * X_col.std())] \n",
    "    \n",
    "    #print bookings[features_to_filter].describe()\n",
    "    \n",
    "    return bookings"
   ]
  },
  {
   "cell_type": "code",
   "execution_count": null,
   "metadata": {
    "collapsed": true
   },
   "outputs": [],
   "source": [
    "features_w_outliers = ['actions_count', 'session_count', 'search_count', 'detail_count', 'checkout_count',\n",
    "                       'anticipation', 'pri_usd_rn', 'price_stars' ]\n",
    "# se queda solo con las columnas que elegi para evaluar outliers"
   ]
  },
  {
   "cell_type": "code",
   "execution_count": null,
   "metadata": {
    "collapsed": true
   },
   "outputs": [],
   "source": [
    "# quiero aplicar el filtro de outliers pero que me tome una distinta medida de media y desvio estandar de cada campo por flow, \n",
    "# porque la cantidad de acciones cambia mucho segun el flow\n",
    "def filterOutliersByVar(bookings, features_to_filter, var_to_subset):\n",
    "    \n",
    "    print bookings[features_to_filter].describe()\n",
    "    \n",
    "    clean_PDF = pd.DataFrame()\n",
    "    unique_values = bookings[var_to_subset].unique()\n",
    "    \n",
    "    for value in unique_values:\n",
    "        sub_PDF = bookings[bookings[var_to_subset]==value]\n",
    "        filtered_sub_PDF = filterOutliers(sub_PDF, features_w_outliers)\n",
    "        clean_PDF = clean_PDF.append(filtered_sub_PDF) #but the append doesn't happen in-place, so you'll have to store the output if you want it\n",
    "    \n",
    "    print clean_PDF[features_to_filter].describe()\n",
    "    \n",
    "    return clean_PDF       "
   ]
  },
  {
   "cell_type": "code",
   "execution_count": null,
   "metadata": {
    "collapsed": true
   },
   "outputs": [],
   "source": [
    "alldata_clean = filterOutliersByVar(alldata_completeGeo, features_w_outliers, \"fl\")"
   ]
  },
  {
   "cell_type": "markdown",
   "metadata": {},
   "source": [
    "#### Guardo como .csv"
   ]
  },
  {
   "cell_type": "code",
   "execution_count": null,
   "metadata": {
    "collapsed": true
   },
   "outputs": [],
   "source": [
    "alldata_clean.to_csv(\"../dynamicFee/preliminar_data.csv\", sep=',', index=False)"
   ]
  }
 ],
 "metadata": {
  "kernelspec": {
   "display_name": "Python 2",
   "language": "python",
   "name": "python2"
  },
  "language_info": {
   "codemirror_mode": {
    "name": "ipython",
    "version": 2
   },
   "file_extension": ".py",
   "mimetype": "text/x-python",
   "name": "python",
   "nbconvert_exporter": "python",
   "pygments_lexer": "ipython2",
   "version": "2.7.12"
  }
 },
 "nbformat": 4,
 "nbformat_minor": 1
}
