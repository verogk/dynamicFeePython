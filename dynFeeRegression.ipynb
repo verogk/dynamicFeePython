{
 "cells": [
  {
   "cell_type": "markdown",
   "metadata": {},
   "source": [
    "### Dynamic Fee: Analysis & Logistic Regression\n",
    "En la segunda parte, con Pandas, limpié la data de outliers, malos trackeos y datos faltantes. \n",
    " \n",
    "Ahora en un tercer paso se realiza el modelo para estimar los coeficientes."
   ]
  },
  {
   "cell_type": "code",
   "execution_count": null,
   "metadata": {
    "collapsed": true
   },
   "outputs": [],
   "source": [
    "import pandas as pd\n",
    "from pandas.tools.plotting import scatter_matrix\n",
    "import numpy as np\n",
    "import matplotlib.pyplot as plt\n",
    "from matplotlib import cm as cm\n",
    "from matplotlib import colors\n",
    "# show plots in the notebook\n",
    "get_ipython().magic(u'matplotlib inline')\n",
    "import statsmodels.api as sm"
   ]
  },
  {
   "cell_type": "code",
   "execution_count": null,
   "metadata": {
    "collapsed": true
   },
   "outputs": [],
   "source": [
    "from sklearn.cross_validation import train_test_split"
   ]
  },
  {
   "cell_type": "code",
   "execution_count": null,
   "metadata": {
    "collapsed": true
   },
   "outputs": [],
   "source": [
    "# Levantar el PDF\n",
    "alldata = pd.read_csv(\"preliminar_data.csv\", sep=',', header='infer')"
   ]
  },
  {
   "cell_type": "code",
   "execution_count": null,
   "metadata": {
    "collapsed": true
   },
   "outputs": [],
   "source": [
    "#comprador de boolean a integer\n",
    "alldata.comprador = alldata.comprador.astype(int)"
   ]
  },
  {
   "cell_type": "code",
   "execution_count": null,
   "metadata": {
    "collapsed": true
   },
   "outputs": [],
   "source": [
    "alldata.columns.values"
   ]
  },
  {
   "cell_type": "code",
   "execution_count": null,
   "metadata": {
    "collapsed": true
   },
   "outputs": [],
   "source": [
    "alldata.fl.value_counts()"
   ]
  },
  {
   "cell_type": "code",
   "execution_count": null,
   "metadata": {
    "collapsed": true
   },
   "outputs": [],
   "source": [
    "alldata.ratio_finde.describe()"
   ]
  },
  {
   "cell_type": "code",
   "execution_count": null,
   "metadata": {
    "collapsed": true
   },
   "outputs": [],
   "source": [
    "data = alldata.loc[:,['comprador', 'fl', 'ratio_finde','distance_km', 'anticipation', 'duration','traveler_type', 'destination_type', 'hc',  \n",
    "                        'tax_percentage', 'pri_usd', 'pri_usd_rn', 'price_stars']] "
   ]
  },
  {
   "cell_type": "code",
   "execution_count": null,
   "metadata": {
    "collapsed": true
   },
   "outputs": [],
   "source": [
    "data.describe()"
   ]
  },
  {
   "cell_type": "markdown",
   "metadata": {},
   "source": [
    "### Dummies"
   ]
  },
  {
   "cell_type": "code",
   "execution_count": null,
   "metadata": {
    "collapsed": true
   },
   "outputs": [],
   "source": [
    "# CAMBIO TRAVELER POR 3 DUMMIES: COUPLE/NOT COUPLE y SINGLE/NOT SINGLE y FAMILY/ NOT FAMILY\n",
    "data['couple'] = data['traveler_type'].apply(lambda x: 1 if (x == \"couple\") else 0)\n",
    "data['single'] = data['traveler_type'].apply(lambda x: 1 if (x == \"single\") else 0)\n",
    "data['family'] = data['traveler_type'].apply(lambda x: 1 if (x == \"family\") else 0)"
   ]
  },
  {
   "cell_type": "code",
   "execution_count": null,
   "metadata": {
    "collapsed": true
   },
   "outputs": [],
   "source": [
    "# CAMBIO DESTINATION POR 3 DUMMIES: DOMESTIC/NOT DOMESTIC, LATAM/NOT LATAM y ROW/ NOT ROW\n",
    "data['domestic'] = data['destination_type'].apply(lambda x: 1 if (x == \"domestic\") else 0)\n",
    "data['latam'] = data['traveler_type'].apply(lambda x: 1 if (x == \"latam\") else 0)\n",
    "data['row'] = data['traveler_type'].apply(lambda x: 1 if (x == \"latam\") else 0)"
   ]
  },
  {
   "cell_type": "markdown",
   "metadata": {},
   "source": [
    "#### Correlation matrix"
   ]
  },
  {
   "cell_type": "code",
   "execution_count": null,
   "metadata": {
    "collapsed": true
   },
   "outputs": [],
   "source": [
    "data_num = data.loc[:,['comprador','ratio_finde','tax_percentage','hc','anticipation','distance_km','duration',\n",
    "                       'pri_usd','pri_usd_rn', 'price_stars']] "
   ]
  },
  {
   "cell_type": "code",
   "execution_count": null,
   "metadata": {
    "collapsed": true
   },
   "outputs": [],
   "source": [
    "corr = data_num.corr()"
   ]
  },
  {
   "cell_type": "code",
   "execution_count": null,
   "metadata": {
    "collapsed": true
   },
   "outputs": [],
   "source": [
    "corr"
   ]
  },
  {
   "cell_type": "code",
   "execution_count": null,
   "metadata": {
    "collapsed": true
   },
   "outputs": [],
   "source": [
    "def correlation_matrix(df):\n",
    "    df_num = df._get_numeric_data()\n",
    "    fig = plt.figure()\n",
    "    ax1 = fig.add_subplot(111)\n",
    "    # elegir un color map DIVERGING de aca: http://matplotlib.org/examples/color/colormaps_reference.html\n",
    "    cmap = cm.get_cmap('Spectral') #rainbow es lindo tambien\n",
    "    cax = ax1.imshow(df_num.corr(), interpolation=\"nearest\", cmap=cmap, norm=colors.Normalize(vmin=-1, vmax=1))\n",
    "    ax1.grid(True)\n",
    "    plt.title('Feature Correlation Matrix')\n",
    "    labels = df_num.columns.values\n",
    "    ax1.set_xticks(np.arange(0,len(labels)))\n",
    "    ax1.set_yticks(np.arange(0,len(labels)))\n",
    "    ax1.set_xticklabels(labels,fontsize=12, rotation=65)\n",
    "    ax1.set_yticklabels(labels,fontsize=12)\n",
    "    # Add colorbar, make sure to specify tick locations to match desired ticklabels\n",
    "    cbar = fig.colorbar(cax, ticks=[-1,-0.5,-0.3,0,.5,.6,.7,.8,.9, 1])\n",
    "    fig.set_size_inches(7, 7)\n",
    "    plt.setp(ax1.get_xticklabels(), visible=True)\n",
    "    plt.show()\n",
    "    \n",
    "correlation_matrix(data_num)"
   ]
  },
  {
   "cell_type": "code",
   "execution_count": null,
   "metadata": {
    "collapsed": true
   },
   "outputs": [],
   "source": [
    "scatter_matrix(data_num, alpha=0.2, figsize=(6, 6), diagonal='kde')"
   ]
  },
  {
   "cell_type": "code",
   "execution_count": null,
   "metadata": {
    "collapsed": true
   },
   "outputs": [],
   "source": [
    "#plt.rcParams.update({'figure.autolayout': True})"
   ]
  },
  {
   "cell_type": "code",
   "execution_count": null,
   "metadata": {
    "collapsed": true
   },
   "outputs": [],
   "source": [
    "#data_num.hist(alpha=0.5)"
   ]
  },
  {
   "cell_type": "code",
   "execution_count": null,
   "metadata": {
    "collapsed": true
   },
   "outputs": [],
   "source": [
    "# barplot of marriage rating grouped by affair (True or False)\n",
    "pd.crosstab(dta.rate_marriage, dta.affair.astype(bool)).plot(kind='bar')\n",
    "plt.title('Marriage Rating Distribution by Affair Status')\n",
    "plt.xlabel('Marriage Rating')\n",
    "plt.ylabel('Frequency')"
   ]
  },
  {
   "cell_type": "code",
   "execution_count": null,
   "metadata": {
    "collapsed": true
   },
   "outputs": [],
   "source": [
    "data.groupby('traveler_type').mean()"
   ]
  },
  {
   "cell_type": "code",
   "execution_count": null,
   "metadata": {
    "collapsed": true
   },
   "outputs": [],
   "source": [
    "data.groupby('destination_type').mean()"
   ]
  },
  {
   "cell_type": "markdown",
   "metadata": {},
   "source": [
    "#### Histograms "
   ]
  },
  {
   "cell_type": "code",
   "execution_count": null,
   "metadata": {
    "collapsed": true
   },
   "outputs": [],
   "source": [
    "fig = plt.figure()\n",
    "ax1 = fig.add_subplot(111)\n",
    "# named colors: http://matplotlib.org/examples/color/named_colors.html\n",
    "ax1.set_color_cycle(['indianred', 'mediumseagreen', 'mediumpurple'])\n",
    "data.groupby(\"traveler_type\").ratio_finde.plot(kind='kde', ax=ax1)\n",
    "cmap = cm.get_cmap('Spectral') #rainbow es lindo tambien\n",
    "plt.title('Feature Correlation Matrix')\n",
    "labels = data_num.columns.values\n",
    "fig.set_size_inches(7, 7)\n",
    "x_range=[data.ratio_finde.min(), data.ratio_finde.max()]\n",
    "ax1.set_xlim(x_range)\n",
    "plt.show()"
   ]
  },
  {
   "cell_type": "code",
   "execution_count": null,
   "metadata": {
    "collapsed": true
   },
   "outputs": [],
   "source": [
    "# para subplots: A list of matplotlib axes generated with something like fig, axs = plt.subplots(ncols=2). \n",
    "#See the docs: matplotlib.org/users/recipes.html#easily-creating-subplots\n",
    "fig, axs = plt.subplots(nrows=2)\n",
    "\n",
    "data.groupby(\"traveler_type\").ratio_finde.plot(kind='kde', ax=axs[1])\n",
    "data.groupby(\"traveler_type\").ratio_finde.plot(kind='hist', alpha=0.4, ax=axs[0], histtype='stepfilled', stacked=False, sharex=True) \n",
    "#data.groupby(\"traveler_type\").ratio_finde.hist(alpha=0.4, ax=axs[0], histtype=\"stepfilled\")\n",
    "\n",
    "#To get consistent spacing for the histogram, one needs to specify \n",
    "range=[data.ratio_finde.min(), data.ratio_finde.max()]"
   ]
  },
  {
   "cell_type": "code",
   "execution_count": null,
   "metadata": {
    "collapsed": true
   },
   "outputs": [],
   "source": [
    "data.ratio_finde.plot(kind='hist', by='traveler_type', histtype='stepfilled')"
   ]
  },
  {
   "cell_type": "markdown",
   "metadata": {},
   "source": [
    "#### Scatter plots"
   ]
  },
  {
   "cell_type": "code",
   "execution_count": null,
   "metadata": {
    "collapsed": true
   },
   "outputs": [],
   "source": [
    "plt.scatter(data.ratio_finde, data.duration, c=\"g\")"
   ]
  },
  {
   "cell_type": "code",
   "execution_count": null,
   "metadata": {
    "collapsed": true
   },
   "outputs": [],
   "source": [
    "data = data.dropna(how='any')"
   ]
  },
  {
   "cell_type": "code",
   "execution_count": null,
   "metadata": {
    "collapsed": true
   },
   "outputs": [],
   "source": [
    "data_num.describe()"
   ]
  },
  {
   "cell_type": "code",
   "execution_count": null,
   "metadata": {
    "collapsed": true
   },
   "outputs": [],
   "source": [
    "data.describe()"
   ]
  },
  {
   "cell_type": "code",
   "execution_count": null,
   "metadata": {
    "collapsed": true
   },
   "outputs": [],
   "source": [
    "data.fl.value_counts()"
   ]
  },
  {
   "cell_type": "code",
   "execution_count": null,
   "metadata": {
    "collapsed": true
   },
   "outputs": [],
   "source": [
    "users = users.fillna(0)\n",
    "y = users['BOUGHT'].values\n",
    "X = users[features]"
   ]
  },
  {
   "cell_type": "code",
   "execution_count": null,
   "metadata": {
    "collapsed": true
   },
   "outputs": [],
   "source": [
    "data.describe()"
   ]
  },
  {
   "cell_type": "code",
   "execution_count": null,
   "metadata": {
    "collapsed": true
   },
   "outputs": [],
   "source": [
    "data['traveler_type'].value_counts()"
   ]
  },
  {
   "cell_type": "code",
   "execution_count": null,
   "metadata": {
    "collapsed": true
   },
   "outputs": [],
   "source": [
    "np.random.seed(0)\n",
    "from sklearn.naive_bayes import GaussianNB\n",
    "from sklearn.linear_model import LogisticRegression\n",
    "from sklearn.ensemble import RandomForestClassifier\n",
    "from sklearn.svm import LinearSVC\n",
    "from sklearn.calibration import calibration_curve\n",
    "\n",
    "from sklearn.feature_extraction.text import CountVectorizer"
   ]
  },
  {
   "cell_type": "code",
   "execution_count": null,
   "metadata": {
    "collapsed": true
   },
   "outputs": [],
   "source": [
    "# Create classifiers\n",
    "lr = LogisticRegression()\n",
    "gnb = GaussianNB()\n",
    "svc = LinearSVC(C=1.0)\n",
    "rfc = RandomForestClassifier(n_estimators=100)"
   ]
  },
  {
   "cell_type": "code",
   "execution_count": null,
   "metadata": {
    "collapsed": true
   },
   "outputs": [],
   "source": [
    "# Plot calibration plots\n",
    "plt.figure(figsize=(10, 10))\n",
    "ax1 = plt.subplot2grid((3, 1), (0, 0), rowspan=2)\n",
    "ax2 = plt.subplot2grid((3, 1), (2, 0))\n",
    "\n",
    "ax1.plot([0, 1], [0, 1], \"k:\", label=\"Perfectly calibrated\")\n",
    "\n",
    "for clf, name in [(lr, 'Logistic'),\n",
    "                  (gnb, 'Naive Bayes'),\n",
    "                  (svc, 'Support Vector Classification'),\n",
    "                  (rfc, 'Random Forest')]:\n",
    "    clf.fit(X_train, y_train)\n",
    "    if hasattr(clf, \"predict_proba\"):\n",
    "        prob_pos = clf.predict_proba(X_test)[:, 1]\n",
    "    else:  # use decision function\n",
    "        prob_pos = clf.decision_function(X_test)\n",
    "        prob_pos =             (prob_pos - prob_pos.min()) / (prob_pos.max() - prob_pos.min())\n",
    "    fraction_of_positives, mean_predicted_value =         calibration_curve(y_test, prob_pos, n_bins=10)\n",
    "\n",
    "    ax1.plot(mean_predicted_value, fraction_of_positives, \"s-\",\n",
    "             label=\"%s\" % (name, ))\n",
    "\n",
    "    ax2.hist(prob_pos, range=(0, 1), bins=10, label=name,\n",
    "             histtype=\"step\", lw=2)\n",
    "\n",
    "ax1.set_ylabel(\"Fraction of positives\")\n",
    "ax1.set_ylim([-0.05, 1.05])\n",
    "ax1.legend(loc=\"lower right\")\n",
    "ax1.set_title('Calibration plots  (reliability curve)')\n",
    "\n",
    "ax2.set_xlabel(\"Mean predicted value\")\n",
    "ax2.set_ylabel(\"Count\")\n",
    "ax2.legend(loc=\"upper center\", ncol=2)\n",
    "\n",
    "plt.tight_layout()\n",
    "plt.show()"
   ]
  },
  {
   "cell_type": "code",
   "execution_count": null,
   "metadata": {
    "collapsed": true
   },
   "outputs": [],
   "source": [
    "# Fit Logistic Regression\n",
    "# por que C=100? http://stackoverflow.com/questions/30416666/scikit-learn-logistic-regression-confusion\n",
    "lr = LogisticRegression(C=100)\n",
    "lrmodel1 = lr.fit(X_train, y_train)"
   ]
  },
  {
   "cell_type": "code",
   "execution_count": null,
   "metadata": {
    "collapsed": true
   },
   "outputs": [],
   "source": [
    "# View the coefficients\n",
    "lrmodel1.intercept_ # returns -0.56333276"
   ]
  },
  {
   "cell_type": "code",
   "execution_count": null,
   "metadata": {
    "collapsed": true
   },
   "outputs": [],
   "source": [
    "lrmodel1.coef_ # returns 0.02368826"
   ]
  },
  {
   "cell_type": "code",
   "execution_count": null,
   "metadata": {
    "collapsed": true
   },
   "outputs": [],
   "source": [
    "vect= CountVectorizer(binary =True)\n",
    "zip(vect.get_feature_names(),lrmodel1.coef_[0])"
   ]
  },
  {
   "cell_type": "code",
   "execution_count": null,
   "metadata": {
    "collapsed": true
   },
   "outputs": [],
   "source": [
    "# Predict for new values\n",
    "xvals = np.arange(-10,70,1)\n",
    "predictions = lr.predict_proba(X=xvals[:,np.newaxis])\n",
    "probs = [y for [x, y] in predictions]"
   ]
  },
  {
   "cell_type": "code",
   "execution_count": null,
   "metadata": {
    "collapsed": true
   },
   "outputs": [],
   "source": [
    "# Plot the fitted model\n",
    "plt.plot(xvals, probs)\n",
    "plt.scatter(df.Age.values, df.ZepplinFan.values)\n",
    "plt.show()"
   ]
  },
  {
   "cell_type": "code",
   "execution_count": null,
   "metadata": {
    "collapsed": true
   },
   "outputs": [],
   "source": [
    "#me quedo con un % random para test y train\n",
    "train, test = train_test_split(data, test_size = 0.5)"
   ]
  },
  {
   "cell_type": "code",
   "execution_count": null,
   "metadata": {
    "collapsed": true
   },
   "outputs": [],
   "source": [
    "featuresB = ['ratio_finde','distance_km', 'anticipation', 'duration', 'hc', 'tax_percentage', 'pri_usd', 'pri_usd_rn', \n",
    "            'price_stars', 'couple', 'single', 'family', 'domestic', 'latam', 'row']\n",
    "\n",
    "features = ['couple', 'single', 'family', 'domestic', 'latam', 'row']\n",
    "\n",
    "X_train = train[features]\n",
    "X_test = test[features]\n",
    "y_train = train['comprador'].values\n",
    "y_test = test['comprador'].values"
   ]
  },
  {
   "cell_type": "code",
   "execution_count": null,
   "metadata": {
    "collapsed": true
   },
   "outputs": [],
   "source": [
    "res1 = sm.Logit(y_train, X_train).fit(method='bfgs', maxiter=1000)  \n",
    "print res1.summary()"
   ]
  },
  {
   "cell_type": "code",
   "execution_count": null,
   "metadata": {
    "collapsed": true
   },
   "outputs": [],
   "source": [
    "lpm_mod = sm.OLS(y_train, X_train)"
   ]
  },
  {
   "cell_type": "code",
   "execution_count": null,
   "metadata": {
    "collapsed": true
   },
   "outputs": [],
   "source": [
    "lpm_res = lpm_mod.fit()\n",
    "\n",
    "print lpm_res.params[:-1]"
   ]
  }
 ],
 "metadata": {
  "kernelspec": {
   "display_name": "Python 2",
   "language": "python",
   "name": "python2"
  },
  "language_info": {
   "codemirror_mode": {
    "name": "ipython",
    "version": 2
   },
   "file_extension": ".py",
   "mimetype": "text/x-python",
   "name": "python",
   "nbconvert_exporter": "python",
   "pygments_lexer": "ipython2",
   "version": "2.7.12"
  }
 },
 "nbformat": 4,
 "nbformat_minor": 1
}
